{
 "cells": [
  {
   "cell_type": "code",
   "execution_count": 26,
   "metadata": {},
   "outputs": [],
   "source": [
    "#pip install termcolor"
   ]
  },
  {
   "cell_type": "code",
   "execution_count": 3,
   "metadata": {},
   "outputs": [
    {
     "name": "stdout",
     "output_type": "stream",
     "text": [
      "Collecting pyfiglet\n",
      "  Obtaining dependency information for pyfiglet from https://files.pythonhosted.org/packages/1a/03/bef6fff907e212d67a0003f8ea4819307bba91b2856074a0763dd483ccc4/pyfiglet-1.0.2-py3-none-any.whl.metadata\n",
      "  Downloading pyfiglet-1.0.2-py3-none-any.whl.metadata (7.1 kB)\n",
      "Downloading pyfiglet-1.0.2-py3-none-any.whl (1.1 MB)\n",
      "\u001b[2K   \u001b[38;2;114;156;31m━━━━━━━━━━━━━━━━━━━━━━━━━━━━━━━━━━━━━━━━\u001b[0m \u001b[32m1.1/1.1 MB\u001b[0m \u001b[31m1.7 MB/s\u001b[0m eta \u001b[36m0:00:00\u001b[0mm eta \u001b[36m0:00:01\u001b[0m[36m0:00:01\u001b[0m0m\n",
      "\u001b[?25hInstalling collected packages: pyfiglet\n",
      "Successfully installed pyfiglet-1.0.2\n"
     ]
    }
   ],
   "source": [
    "#!pip install pyfiglet"
   ]
  },
  {
   "cell_type": "code",
   "execution_count": 28,
   "metadata": {},
   "outputs": [
    {
     "name": "stdout",
     "output_type": "stream",
     "text": [
      "\u001b[36m _______  __   _______  \n",
      "|   ____||  | |       \\ \n",
      "|  |__   |  | |  .--.  |\n",
      "|   __|  |  | |  |  |  |\n",
      "|  |____ |  | |  '--'  |\n",
      "|_______||__| |_______/ \n",
      "                        \n",
      ".___  ___.  __    __  .______        ___      .______          ___      \n",
      "|   \\/   | |  |  |  | |   _  \\      /   \\     |   _  \\        /   \\     \n",
      "|  \\  /  | |  |  |  | |  |_)  |    /  ^  \\    |  |_)  |      /  ^  \\    \n",
      "|  |\\/|  | |  |  |  | |   _  <    /  /_\\  \\   |      /      /  /_\\  \\   \n",
      "|  |  |  | |  `--'  | |  |_)  |  /  _____  \\  |  |\\  \\----./  _____  \\  \n",
      "|__|  |__|  \\______/  |______/  /__/     \\__\\ | _| `._____/__/     \\__\\ \n",
      "                                                                        \n",
      " __  ___     ________      ___           ___      .___  ___.     __  \n",
      "|  |/  /    |       /     /   \\         /   \\     |   \\/   |    |  | \n",
      "|  '  /     `---/  /     /  ^  \\       /  ^  \\    |  \\  /  |    |  | \n",
      "|    <         /  /     /  /_\\  \\     /  /_\\  \\   |  |\\/|  |    |  | \n",
      "|  .  \\       /  /----./  _____  \\   /  _____  \\  |  |  |  |    |__| \n",
      "|__|\\__\\     /________/__/     \\__\\ /__/     \\__\\ |__|  |__|    (__) \n",
      "                                                                     \n",
      "\u001b[0m\n"
     ]
    }
   ],
   "source": [
    "import pyfiglet\n",
    "from termcolor import colored\n",
    "import random\n",
    "\n",
    "def eid_al_fitr_wishes():\n",
    "    colors = ['cyan']\n",
    "    ascii_art = pyfiglet.figlet_format(\"Eid Mubarak ZAAM !\", font=\"starwars\")\n",
    "    print(colored(ascii_art, color=random.choice(colors)))\n",
    "    #print(colored(ascii_art, random_color))\n",
    "\n",
    "# Calling the function to display the wishes\n",
    "eid_al_fitr_wishes()"
   ]
  },
  {
   "cell_type": "code",
   "execution_count": null,
   "metadata": {},
   "outputs": [],
   "source": [
    "That was a fun exploration"
   ]
  },
  {
   "cell_type": "markdown",
   "metadata": {},
   "source": []
  }
 ],
 "metadata": {
  "kernelspec": {
   "display_name": "my_project",
   "language": "python",
   "name": "python3"
  },
  "language_info": {
   "codemirror_mode": {
    "name": "ipython",
    "version": 3
   },
   "file_extension": ".py",
   "mimetype": "text/x-python",
   "name": "python",
   "nbconvert_exporter": "python",
   "pygments_lexer": "ipython3",
   "version": "3.11.6"
  }
 },
 "nbformat": 4,
 "nbformat_minor": 2
}
